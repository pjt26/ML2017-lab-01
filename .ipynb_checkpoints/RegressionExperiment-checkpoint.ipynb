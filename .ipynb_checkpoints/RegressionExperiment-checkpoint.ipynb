{
 "cells": [
  {
   "cell_type": "code",
   "execution_count": 224,
   "metadata": {
    "collapsed": true
   },
   "outputs": [],
   "source": [
    "import numpy as np\n",
    "from sklearn.model_selection import train_test_split\n",
    "from sklearn.datasets import load_svmlight_file"
   ]
  },
  {
   "cell_type": "code",
   "execution_count": 225,
   "metadata": {
    "collapsed": true
   },
   "outputs": [],
   "source": [
    "def get_data():\n",
    "    data = load_svmlight_file(\"housing_scale\")\n",
    "    return data[0], data[1]\n",
    "\n",
    "X, y = get_data()"
   ]
  },
  {
   "cell_type": "code",
   "execution_count": 226,
   "metadata": {
    "collapsed": true
   },
   "outputs": [],
   "source": [
    "X_train, X_test, y_train, y_test = train_test_split(X, y, test_size=0.3)\n"
   ]
  },
  {
   "cell_type": "code",
   "execution_count": 235,
   "metadata": {},
   "outputs": [],
   "source": [
    "def linearRegression(delta,n,X_train,y_train,X_test,y_test):\n",
    "    #A = np.zeros(X.shape[1])\n",
    "    #A = np.random.randn(X.shape[1])\n",
    "    A = np.ones(X.shape[1])\n",
    "    b = 1\n",
    "    for i in range(n):\n",
    "        trainCost = np.sum(np.square(X_train*A + b - y_train))/ (2*X_train.shape[0])\n",
    "        GA = (X_train*A + b - y_train)*X_train / X_train.shape[0]\n",
    "        Gb = np.sum((X_train*A + b - y_train)) / X_train.shape[0]\n",
    "        DA = -GA\n",
    "        Db = -Gb\n",
    "        A = A + delta*DA\n",
    "        b = b + delta*Db\n",
    "    validationCost = np.sum(np.square(X_test*A + b - y_test))/ (2*X_test.shape[0])\n",
    "    return trainCost,validationCost"
   ]
  },
  {
   "cell_type": "code",
   "execution_count": 238,
   "metadata": {},
   "outputs": [
    {
     "name": "stdout",
     "output_type": "stream",
     "text": [
      "10.6799359402 12.180950682\n"
     ]
    }
   ],
   "source": [
    "t,v = linearRegression(0.01,10000,X_train,y_train,X_test,y_test)\n",
    "print (t,v)"
   ]
  }
 ],
 "metadata": {
  "kernelspec": {
   "display_name": "Python 3",
   "language": "python",
   "name": "python3"
  },
  "language_info": {
   "codemirror_mode": {
    "name": "ipython",
    "version": 3
   },
   "file_extension": ".py",
   "mimetype": "text/x-python",
   "name": "python",
   "nbconvert_exporter": "python",
   "pygments_lexer": "ipython3",
   "version": "3.6.3"
  }
 },
 "nbformat": 4,
 "nbformat_minor": 2
}
