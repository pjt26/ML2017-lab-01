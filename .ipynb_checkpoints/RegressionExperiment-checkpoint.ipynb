{
 "cells": [
  {
   "cell_type": "code",
   "execution_count": 22,
   "metadata": {
    "collapsed": true
   },
   "outputs": [],
   "source": [
    "import numpy as np\n",
    "import matplotlib.pyplot as plt\n",
    "from sklearn.model_selection import train_test_split\n",
    "from sklearn.datasets import load_svmlight_file"
   ]
  },
  {
   "cell_type": "code",
   "execution_count": 35,
   "metadata": {
    "collapsed": true
   },
   "outputs": [],
   "source": [
    "def get_data():\n",
    "    data = load_svmlight_file(\"housing_scale\")\n",
    "    return data[0], data[1]\n",
    "\n",
    "#Import data\n",
    "X, y = get_data()\n"
   ]
  },
  {
   "cell_type": "code",
   "execution_count": 36,
   "metadata": {
    "collapsed": true
   },
   "outputs": [],
   "source": [
    "#Divide dataset into training set and validation set\n",
    "X_train, X_test, y_train, y_test = train_test_split(X, y, test_size=0.2)\n",
    "\n",
    "X_train = X_train.todense()\n",
    "y_train = y_train.reshape(y_train.shape[0],1)\n",
    "X_test = X_test.todense()\n",
    "y_test = y_test.reshape(y_test.shape[0],1)"
   ]
  },
  {
   "cell_type": "markdown",
   "metadata": {},
   "source": [
    "## Linear Regression\n",
    "\n",
    "$LossFunction =\\frac{1}{2m}\\sum_{i=1}^m(X_i \\cdot A +b - y_i)^2 $\n",
    "\n",
    "$G_A =\\frac{1}{m}\\sum_{i=1}^m(X_i \\cdot A +b - y_i)*X_i $\n",
    "\n",
    "$G_b =\\frac{1}{m}\\sum_{i=1}^m(X_i \\cdot A +b - y_i) $"
   ]
  },
  {
   "cell_type": "code",
   "execution_count": 37,
   "metadata": {
    "collapsed": true
   },
   "outputs": [],
   "source": [
    "def linearRegression(delta,n,X_train,y_train,X_test,y_test):\n",
    "    #Initialize linear model parameters. Set all parameter into one\n",
    "    A = np.ones((X.shape[1],1))\n",
    "    b = 1\n",
    "    \n",
    "    trainCost = []\n",
    "    validationCost = []\n",
    "    for i in range(n):\n",
    "        trainCost.append(np.sum(np.square(X_train.dot(A) + b - y_train))/ (2*X_train.shape[0]))\n",
    "        validationCost.append(np.sum(np.square(X_test.dot(A) + b - y_test))/ (2*X_test.shape[0]))\n",
    "        GA = X_train.T.dot((X_train.dot(A) + b - y_train)) / X_train.shape[0]\n",
    "        Gb = np.sum((X_train.dot(A) + b - y_train)) / X_train.shape[0]\n",
    "        DA = -GA\n",
    "        Db = -Gb\n",
    "        A = A + delta*DA\n",
    "        b = b + delta*Db\n",
    "    return trainCost,validationCost"
   ]
  },
  {
   "cell_type": "code",
   "execution_count": 39,
   "metadata": {},
   "outputs": [
    {
     "data": {
      "image/png": "[encoded data removed]",
      "text/plain": [
       "<matplotlib.figure.Figure at 0x707d83828>"
      ]
     },
     "metadata": {},
     "output_type": "display_data"
    }
   ],
   "source": [
    "n = 50       #iteration time\n",
    "delta = 0.1  #learning rate\n",
    "t,v = linearRegression(delta,n,X_train,y_train,X_test,y_test)\n",
    "\n",
    "\n",
    "plt.figure(1)\n",
    "x = np.arange(0, n, 1)\n",
    "plt.xlabel('iteration times')\n",
    "plt.ylabel('Loss')\n",
    "plt.plot(x,t,color=\"b\",label = \"train loss\")\n",
    "plt.plot(x,v,color=\"r\",label = \"validation loss\")\n",
    "plt.legend(loc='upper right')\n",
    "plt.show()"
   ]
  }
 ],
 "metadata": {
  "kernelspec": {
   "display_name": "Python 3",
   "language": "python",
   "name": "python3"
  },
  "language_info": {
   "codemirror_mode": {
    "name": "ipython",
    "version": 3
   },
   "file_extension": ".py",
   "mimetype": "text/x-python",
   "name": "python",
   "nbconvert_exporter": "python",
   "pygments_lexer": "ipython3",
   "version": "3.6.3"
  }
 },
 "nbformat": 4,
 "nbformat_minor": 2
}
