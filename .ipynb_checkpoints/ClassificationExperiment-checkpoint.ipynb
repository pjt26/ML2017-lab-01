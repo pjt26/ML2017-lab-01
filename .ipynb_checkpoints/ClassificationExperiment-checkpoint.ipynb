{
 "cells": [
  {
   "cell_type": "code",
   "execution_count": 7,
   "metadata": {
    "collapsed": true
   },
   "outputs": [],
   "source": [
    "import numpy as np\n",
    "import matplotlib.pyplot as plt\n",
    "from sklearn.model_selection import train_test_split\n",
    "from sklearn.datasets import load_svmlight_file"
   ]
  },
  {
   "cell_type": "code",
   "execution_count": 8,
   "metadata": {
    "collapsed": true
   },
   "outputs": [],
   "source": [
    "def get_data():\n",
    "    data = load_svmlight_file(\"australian_scale\")\n",
    "    return data[0], data[1]\n",
    "\n",
    "#Import data\n",
    "X, y = get_data()"
   ]
  },
  {
   "cell_type": "code",
   "execution_count": 9,
   "metadata": {
    "collapsed": true
   },
   "outputs": [],
   "source": [
    "#Divide dataset into training set and validation set\n",
    "X_train, X_test, y_train, y_test = train_test_split(X, y, test_size=0.2)"
   ]
  },
  {
   "cell_type": "markdown",
   "metadata": {},
   "source": [
    "## SVM\n",
    "\n",
    "$LossFunction =\\frac{||w||^2}{2}+C\\sum_{i=1}^nmax(0,1-y_i(W^Tx_i +b) $\n",
    "\n",
    "$G_W =W+C\\sum_{i=1}^m-y_i*x_i  $  ,if $1-y_i(W^Tx_i +b) >0$\n",
    "\n",
    "$G_b =C\\sum_{i=1}^m-y_i  $  ,if $1-y_i(W^Tx_i +b) >0$"
   ]
  },
  {
   "cell_type": "code",
   "execution_count": 10,
   "metadata": {
    "collapsed": true
   },
   "outputs": [],
   "source": [
    "def SVM(delta,n,X_train,y_train,X_test,y_test):\n",
    "\n",
    "    #Initialize linear model parameters. Set all parameter into one\n",
    "    W = np.ones(X.shape[1])\n",
    "    b = 1\n",
    "    C = 10\n",
    "\n",
    "    trainCost = []\n",
    "    validationCost = []\n",
    "    for i in range(n):\n",
    "        tc = 0\n",
    "        vc = 0        \n",
    "        GW = np.zeros(X.shape[1])\n",
    "        Gb = 0\n",
    "        for j in range(X_train.shape[0]):\n",
    "            if (1-y_train[j]*(X_train[j]*W+b)) > 0 :\n",
    "                tc += C*(1-y_train[j]*(X_train[j]*W+b))\n",
    "                Gb += C*-1*y_train[j]\n",
    "                for k in range(X.shape[1]):\n",
    "                    GW[k] += C*-1*y_train[j]*X_train[j,k]\n",
    "\n",
    "        for j in range(X_test.shape[0]):\n",
    "            if (1-y_test[j]*(X_test[j]*W+b)) > 0 :\n",
    "                vc += C*(1-y_test[j]*(X_test[j]*W+b))\n",
    "                    \n",
    "        trainCost.append(tc/X_train.shape[0] + 0.5*np.sum(np.square(W)))\n",
    "        validationCost.append(vc/X_test.shape[0] + 0.5*np.sum(np.square(W)))\n",
    "\n",
    "        GW = GW/X_train.shape[0] + np.sum(W)\n",
    "        Gb = Gb/X_train.shape[0]\n",
    "\n",
    "        DW = -GW\n",
    "        Db = -Gb\n",
    "        W = W + delta*DW\n",
    "        b = b + delta*Db\n",
    "    return trainCost,validationCost"
   ]
  },
  {
   "cell_type": "code",
   "execution_count": 11,
   "metadata": {},
   "outputs": [
    {
     "data": {
      "image/png": "[encoded data removed]",
      "text/plain": [
       "<matplotlib.figure.Figure at 0x24b370c518>"
      ]
     },
     "metadata": {},
     "output_type": "display_data"
    }
   ],
   "source": [
    "n = 50       #iteration time\n",
    "delta = 0.01 # learning rate\n",
    "t,v = SVM(delta,n,X_train,y_train,X_test,y_test)\n",
    "\n",
    "\n",
    "plt.figure(1)\n",
    "x = np.arange(0, n, 1)\n",
    "plt.xlabel('iteration times')\n",
    "plt.ylabel('Loss')\n",
    "plt.plot(x,t,color=\"b\",label = \"train loss\")\n",
    "plt.plot(x,v,color=\"r\",label = \"validation loss\")\n",
    "plt.legend(loc='upper right')\n",
    "plt.show()"
   ]
  }
 ],
 "metadata": {
  "kernelspec": {
   "display_name": "Python 3",
   "language": "python",
   "name": "python3"
  },
  "language_info": {
   "codemirror_mode": {
    "name": "ipython",
    "version": 3
   },
   "file_extension": ".py",
   "mimetype": "text/x-python",
   "name": "python",
   "nbconvert_exporter": "python",
   "pygments_lexer": "ipython3",
   "version": "3.6.3"
  }
 },
 "nbformat": 4,
 "nbformat_minor": 2
}
