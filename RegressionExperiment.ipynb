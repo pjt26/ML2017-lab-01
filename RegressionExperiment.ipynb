{
 "cells": [
  {
   "cell_type": "code",
   "execution_count": 12,
   "metadata": {
    "collapsed": true
   },
   "outputs": [],
   "source": [
    "import numpy as np\n",
    "from sklearn.model_selection import train_test_split\n",
    "from sklearn.datasets import load_svmlight_file"
   ]
  },
  {
   "cell_type": "code",
   "execution_count": 13,
   "metadata": {
    "collapsed": true
   },
   "outputs": [],
   "source": [
    "def get_data():\n",
    "    data = load_svmlight_file(\"housing_scale\")\n",
    "    return data[0], data[1]\n",
    "\n",
    "X, y = get_data()"
   ]
  },
  {
   "cell_type": "code",
   "execution_count": 14,
   "metadata": {
    "collapsed": true
   },
   "outputs": [],
   "source": [
    "X_train, X_test, y_train, y_test = train_test_split(X, y, test_size=0.3)\n"
   ]
  },
  {
   "cell_type": "code",
   "execution_count": 15,
   "metadata": {
    "collapsed": true
   },
   "outputs": [],
   "source": [
    "#A = np.zeros(X.shape[1])\n",
    "#A = np.random.randn(X.shape[1])\n",
    "A = np.ones(X.shape[1])\n",
    "b = 1"
   ]
  },
  {
   "cell_type": "code",
   "execution_count": 16,
   "metadata": {},
   "outputs": [
    {
     "name": "stdout",
     "output_type": "stream",
     "text": [
      "177.030383548 -48.5561877361\n"
     ]
    }
   ],
   "source": [
    "DiffA = 0\n",
    "Diffb = 0\n",
    "delta = 0.1\n",
    "costFunc = np.sum(np.square(X_train*A + b - y_train))\n",
    "DiffA = np.sum(2*X_train.T*(X_train*A + b - y_train))\n",
    "Diffb = np.sum(2*(X_train*A + b - y_train))\n",
    "GA = DiffA/X_train.shape[0]\n",
    "Gb = Diffb/X_train.shape[0]\n",
    "print(GA,Gb)\n",
    "A = A + delta*GA\n",
    "b = b + delta*Gb"
   ]
  },
  {
   "cell_type": "code",
   "execution_count": null,
   "metadata": {
    "collapsed": true
   },
   "outputs": [],
   "source": []
  },
  {
   "cell_type": "code",
   "execution_count": null,
   "metadata": {
    "collapsed": true
   },
   "outputs": [],
   "source": []
  }
 ],
 "metadata": {
  "kernelspec": {
   "display_name": "Python 3",
   "language": "python",
   "name": "python3"
  },
  "language_info": {
   "codemirror_mode": {
    "name": "ipython",
    "version": 3
   },
   "file_extension": ".py",
   "mimetype": "text/x-python",
   "name": "python",
   "nbconvert_exporter": "python",
   "pygments_lexer": "ipython3",
   "version": "3.6.3"
  }
 },
 "nbformat": 4,
 "nbformat_minor": 2
}
